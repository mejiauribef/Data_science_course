{
 "cells": [
  {
   "cell_type": "code",
   "execution_count": 1,
   "metadata": {},
   "outputs": [
    {
     "name": "stdout",
     "output_type": "stream",
     "text": [
      "{1: 2, 2: 4, 3: 6, 4: 8}\n"
     ]
    }
   ],
   "source": [
    "dict = {}\n",
    "for i in range(1,5):\n",
    "    dict[i] = i * 2\n",
    "print(dict)"
   ]
  },
  {
   "cell_type": "code",
   "execution_count": 2,
   "metadata": {},
   "outputs": [
    {
     "name": "stdout",
     "output_type": "stream",
     "text": [
      "{1: 2, 2: 4, 3: 6, 4: 8}\n"
     ]
    }
   ],
   "source": [
    "dict_v2 = {i: i * 2 for i in range (1,5)}\n",
    "print(dict_v2)\n"
   ]
  },
  {
   "cell_type": "code",
   "execution_count": 3,
   "metadata": {},
   "outputs": [
    {
     "name": "stdout",
     "output_type": "stream",
     "text": [
      "{'col': 57, 'mex': 55, 'bol': 19, 'per': 67}\n",
      "{'col': 53, 'mex': 17, 'bol': 64, 'per': 28}\n"
     ]
    }
   ],
   "source": [
    "import random\n",
    "countries = ['col','mex','bol','per']\n",
    "population = {}\n",
    "for country in countries:\n",
    "    population[country] = random.randint(1,100)\n",
    "print(population)\n",
    "\n",
    "population_v2 = {country:random.randint(1,100) for country in countries}\n",
    "print(population_v2)"
   ]
  },
  {
   "cell_type": "code",
   "execution_count": 4,
   "metadata": {},
   "outputs": [
    {
     "name": "stdout",
     "output_type": "stream",
     "text": [
      "[('nico', 12), ('zule', 56), ('santi', 98)]\n",
      "{'nico': 12, 'zule': 56, 'santi': 98}\n"
     ]
    }
   ],
   "source": [
    "names = ['nico','zule','santi']\n",
    "ages = [12,56,98]\n",
    "\n",
    "print(list(zip(names,ages)))\n",
    "new_dict = {name: age for (name,age) in zip(names,ages)}\n",
    "print(new_dict)"
   ]
  }
 ],
 "metadata": {
  "kernelspec": {
   "display_name": "Python 3",
   "language": "python",
   "name": "python3"
  },
  "language_info": {
   "codemirror_mode": {
    "name": "ipython",
    "version": 3
   },
   "file_extension": ".py",
   "mimetype": "text/x-python",
   "name": "python",
   "nbconvert_exporter": "python",
   "pygments_lexer": "ipython3",
   "version": "3.11.2"
  },
  "orig_nbformat": 4
 },
 "nbformat": 4,
 "nbformat_minor": 2
}
