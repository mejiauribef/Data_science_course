{
 "cells": [
  {
   "cell_type": "code",
   "execution_count": 1,
   "metadata": {},
   "outputs": [
    {
     "name": "stdout",
     "output_type": "stream",
     "text": [
      "{'col', 'bol', 'mex'}\n",
      "<class 'set'>\n"
     ]
    }
   ],
   "source": [
    "set_countries = {'col','mex','bol'}\n",
    "print(set_countries)\n",
    "print(type(set_countries))\n"
   ]
  },
  {
   "cell_type": "code",
   "execution_count": 2,
   "metadata": {},
   "outputs": [
    {
     "name": "stdout",
     "output_type": "stream",
     "text": [
      "{1, 2, 23, 56, 443}\n"
     ]
    }
   ],
   "source": [
    "set_numers = {1,2,2,443,23,56}\n",
    "print(set_numers)"
   ]
  },
  {
   "cell_type": "code",
   "execution_count": 3,
   "metadata": {},
   "outputs": [
    {
     "name": "stdout",
     "output_type": "stream",
     "text": [
      "{False, 1, 12.12, 'hola'}\n"
     ]
    }
   ],
   "source": [
    "set_types = {1,'hola',False,12.12}\n",
    "print(set_types)"
   ]
  },
  {
   "cell_type": "code",
   "execution_count": 4,
   "metadata": {},
   "outputs": [
    {
     "name": "stdout",
     "output_type": "stream",
     "text": [
      "{'h', 'l', 'a', 'o'}\n"
     ]
    }
   ],
   "source": [
    "set_from_string = set('hola')\n",
    "print(set_from_string)\n"
   ]
  },
  {
   "cell_type": "code",
   "execution_count": 5,
   "metadata": {},
   "outputs": [
    {
     "name": "stdout",
     "output_type": "stream",
     "text": [
      "{'abc', 'sas', 'cbv'}\n"
     ]
    }
   ],
   "source": [
    "set_from_tuples = set(('abc','cbv','sas','abc'))\n",
    "print(set_from_tuples)\n"
   ]
  },
  {
   "cell_type": "code",
   "execution_count": 6,
   "metadata": {},
   "outputs": [
    {
     "name": "stdout",
     "output_type": "stream",
     "text": [
      "{1, 2, 3, 4}\n"
     ]
    }
   ],
   "source": [
    "numbers = [1,2,3,1,2,3,4]\n",
    "set_numbers = set(numbers)\n",
    "print(set_numbers)"
   ]
  }
 ],
 "metadata": {
  "kernelspec": {
   "display_name": "Python 3",
   "language": "python",
   "name": "python3"
  },
  "language_info": {
   "codemirror_mode": {
    "name": "ipython",
    "version": 3
   },
   "file_extension": ".py",
   "mimetype": "text/x-python",
   "name": "python",
   "nbconvert_exporter": "python",
   "pygments_lexer": "ipython3",
   "version": "3.11.2"
  },
  "orig_nbformat": 4
 },
 "nbformat": 4,
 "nbformat_minor": 2
}
