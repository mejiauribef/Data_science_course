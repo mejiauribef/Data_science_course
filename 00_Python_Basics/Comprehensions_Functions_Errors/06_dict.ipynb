{
 "cells": [
  {
   "cell_type": "code",
   "execution_count": 3,
   "metadata": {},
   "outputs": [
    {
     "name": "stdout",
     "output_type": "stream",
     "text": [
      "{'col': 2, 'mex': 71, 'bol': 23, 'per': 48}\n"
     ]
    }
   ],
   "source": [
    "import random\n",
    "countries = ['col','mex','bol','per']\n",
    "population_v2 = {country:random.randint(1,100) for country in countries}\n",
    "print(population_v2)"
   ]
  },
  {
   "cell_type": "code",
   "execution_count": 4,
   "metadata": {},
   "outputs": [
    {
     "name": "stdout",
     "output_type": "stream",
     "text": [
      "{'mex': 71, 'per': 48}\n"
     ]
    }
   ],
   "source": [
    "result = {country: population for(country,population) in population_v2.items() if population > 30}\n",
    "print(result)"
   ]
  },
  {
   "cell_type": "code",
   "execution_count": 5,
   "metadata": {},
   "outputs": [
    {
     "name": "stdout",
     "output_type": "stream",
     "text": [
      "{'o': 'O', 'a': 'A', 'e': 'E', 'i': 'I'}\n"
     ]
    }
   ],
   "source": [
    "text = 'hola, soy Felipe'\n",
    "unqique = {c: c.upper() for c in text if c in 'aeiou'}\n",
    "print(unqique)"
   ]
  }
 ],
 "metadata": {
  "kernelspec": {
   "display_name": "Python 3",
   "language": "python",
   "name": "python3"
  },
  "language_info": {
   "codemirror_mode": {
    "name": "ipython",
    "version": 3
   },
   "file_extension": ".py",
   "mimetype": "text/x-python",
   "name": "python",
   "nbconvert_exporter": "python",
   "pygments_lexer": "ipython3",
   "version": "3.11.2"
  },
  "orig_nbformat": 4
 },
 "nbformat": 4,
 "nbformat_minor": 2
}
