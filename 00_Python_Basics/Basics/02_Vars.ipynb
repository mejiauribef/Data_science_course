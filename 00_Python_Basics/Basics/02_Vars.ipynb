{
 "cells": [
  {
   "cell_type": "code",
   "execution_count": 1,
   "metadata": {},
   "outputs": [
    {
     "name": "stdout",
     "output_type": "stream",
     "text": [
      "my_name = Nicolas\n",
      "esta es la edad = 12\n",
      "is_single = False\n",
      "myname = Santiago\n",
      "my_name = Nicolas\n",
      "my_name = Santiago\n",
      "my_name = Santiago\n",
      "felipe\n",
      "28\n"
     ]
    }
   ],
   "source": [
    "# string\n",
    "my_name = \"Nicolas\"\n",
    "print('my_name =', my_name)\n",
    "\n",
    "# int\n",
    "my_age = 12\n",
    "print('esta es la edad =', my_age)\n",
    "\n",
    "# boolean\n",
    "is_single = False\n",
    "print('is_single =', is_single)\n",
    "\n",
    "\n",
    "# change variable\n",
    "myname = \"Santiago\"\n",
    "print('myname =', myname)\n",
    "print('my_name =', my_name)\n",
    "\n",
    "# change variable\n",
    "my_name = \"Santiago\"\n",
    "print('my_name =', my_name)\n",
    "print('my_name =', my_name)\n",
    "\n",
    "# Inputs\n",
    "my_name = input('¿Cuál es tu nombre?')\n",
    "my_age = input('¿Cuántos años tienes?')\n",
    "print(my_name)\n",
    "print(my_age)"
   ]
  }
 ],
 "metadata": {
  "kernelspec": {
   "display_name": "Python 3",
   "language": "python",
   "name": "python3"
  },
  "language_info": {
   "codemirror_mode": {
    "name": "ipython",
    "version": 3
   },
   "file_extension": ".py",
   "mimetype": "text/x-python",
   "name": "python",
   "nbconvert_exporter": "python",
   "pygments_lexer": "ipython3",
   "version": "3.11.2"
  },
  "orig_nbformat": 4
 },
 "nbformat": 4,
 "nbformat_minor": 2
}
