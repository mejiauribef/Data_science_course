{
 "cells": [
  {
   "cell_type": "code",
   "execution_count": 1,
   "metadata": {},
   "outputs": [
    {
     "name": "stdout",
     "output_type": "stream",
     "text": [
      "Hola, esto es python\n",
      "Hola, soy Felipe Mejia y tengo 28 años\n"
     ]
    }
   ],
   "source": [
    "print(\"Hola, esto es python\")\n",
    "print('Hola, soy Felipe Mejia y tengo 28 años')"
   ]
  },
  {
   "cell_type": "code",
   "execution_count": 2,
   "metadata": {},
   "outputs": [
    {
     "name": "stdout",
     "output_type": "stream",
     "text": [
      "24\n",
      "28\n",
      "6\n",
      "4.0\n",
      "5.0\n",
      "0\n",
      "3.3333333333333335\n",
      "1\n",
      "8\n"
     ]
    }
   ],
   "source": [
    "print(12 + 12)\n",
    "print(40 -12)\n",
    "print(2 * 3)\n",
    "print(12 / 3)\n",
    "\n",
    "print(10 / 2)\n",
    "print(10 % 2)\n",
    "print(10 / 3)\n",
    "print(10 % 3)\n",
    "\n",
    "print(2 ** 3)"
   ]
  },
  {
   "attachments": {},
   "cell_type": "markdown",
   "metadata": {},
   "source": [
    "Comments"
   ]
  },
  {
   "cell_type": "code",
   "execution_count": null,
   "metadata": {},
   "outputs": [],
   "source": [
    "# Comment one line\n",
    "\n",
    "\"\"\"\n",
    "Comment with many lines\n",
    "line 1\n",
    "line 2\n",
    "\"\"\""
   ]
  }
 ],
 "metadata": {
  "kernelspec": {
   "display_name": "Python 3",
   "language": "python",
   "name": "python3"
  },
  "language_info": {
   "codemirror_mode": {
    "name": "ipython",
    "version": 3
   },
   "file_extension": ".py",
   "mimetype": "text/x-python",
   "name": "python",
   "nbconvert_exporter": "python",
   "pygments_lexer": "ipython3",
   "version": "3.11.2"
  },
  "orig_nbformat": 4
 },
 "nbformat": 4,
 "nbformat_minor": 2
}
