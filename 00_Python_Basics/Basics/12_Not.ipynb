{
 "cells": [
  {
   "cell_type": "code",
   "execution_count": 1,
   "metadata": {},
   "outputs": [
    {
     "name": "stdout",
     "output_type": "stream",
     "text": [
      "False\n",
      "True\n",
      "NOT AND\n",
      "not True and True => False\n",
      "not True and False => True\n",
      "not False and True => True\n",
      "not False and False => True\n",
      "False\n"
     ]
    }
   ],
   "source": [
    "print(not True)\n",
    "print(not False)\n",
    "\n",
    "# and\n",
    "print('NOT AND')\n",
    "print('not True and True =>', not (True and True))\n",
    "print('not True and False =>', not (True and False))\n",
    "print('not False and True =>', not (False and True))\n",
    "print('not False and False =>', not (False and False))\n",
    "\n",
    "stock = input('Ingrese el numero de stock => ')\n",
    "stock = int(stock)\n",
    "\n",
    "print(not (stock >= 100 and stock <= 1000))"
   ]
  }
 ],
 "metadata": {
  "kernelspec": {
   "display_name": "Python 3",
   "language": "python",
   "name": "python3"
  },
  "language_info": {
   "codemirror_mode": {
    "name": "ipython",
    "version": 3
   },
   "file_extension": ".py",
   "mimetype": "text/x-python",
   "name": "python",
   "nbconvert_exporter": "python",
   "pygments_lexer": "ipython3",
   "version": "3.11.2"
  },
  "orig_nbformat": 4
 },
 "nbformat": 4,
 "nbformat_minor": 2
}
