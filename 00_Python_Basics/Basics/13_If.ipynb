{
 "cells": [
  {
   "cell_type": "code",
   "execution_count": 1,
   "metadata": {},
   "outputs": [
    {
     "name": "stdout",
     "output_type": "stream",
     "text": [
      "deberÃ­a ejecutarse\n",
      "Es par\n"
     ]
    }
   ],
   "source": [
    "if True:\n",
    "  print('deberÃ­a ejecutarse')\n",
    "\n",
    "if False:\n",
    "  print('nunca se ejecuta')\n",
    "\n",
    "'''\n",
    "pet = input('Â¿CuÃ¡l es tu mascota favorita? ')\n",
    "\n",
    "if pet == 'perro':\n",
    "  print('genial tienes buen gusto')\n",
    "elif pet == 'gato':\n",
    "  print('espero tengas suerte')\n",
    "elif pet == 'pez':\n",
    "  print('eres lo maximo')\n",
    "else:\n",
    "  print('no tienes ninguna mascota interesante')\n",
    "\n",
    "\n",
    "stock = int(input('Digita el stock => '))\n",
    "\n",
    "if stock >= 100 and stock <= 1000:\n",
    "  print('el stock es correcto')\n",
    "else:\n",
    "  print('el stock es incorrecto')\n",
    "\n",
    "'''\n",
    "\n",
    "number = int(input('Ingrese un numero => '))\n",
    "result = number % 2\n",
    "if (result == 0):\n",
    "\tprint('Es par')\n",
    "else:\n",
    "\tprint('Es impar')"
   ]
  }
 ],
 "metadata": {
  "kernelspec": {
   "display_name": "Python 3",
   "language": "python",
   "name": "python3"
  },
  "language_info": {
   "codemirror_mode": {
    "name": "ipython",
    "version": 3
   },
   "file_extension": ".py",
   "mimetype": "text/x-python",
   "name": "python",
   "nbconvert_exporter": "python",
   "pygments_lexer": "ipython3",
   "version": "3.11.2"
  },
  "orig_nbformat": 4
 },
 "nbformat": 4,
 "nbformat_minor": 2
}
