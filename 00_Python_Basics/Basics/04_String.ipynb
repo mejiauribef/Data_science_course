{
 "cells": [
  {
   "cell_type": "code",
   "execution_count": 1,
   "metadata": {},
   "outputs": [
    {
     "name": "stdout",
     "output_type": "stream",
     "text": [
      "Felipe\n",
      "Mejia Uribe\n",
      "Felipe Mejia Uribe\n",
      "I'm Felipe\n",
      " She said \"Hello\"  \n",
      "v1  Hola, mi nombre es Felipe y mi apellido es Mejia Uribe\n",
      "v2 Hola, mi nombre es Felipe y mi apellido es Mejia Uribe\n",
      "v3 Hola, mi nombre es Felipe y mi apellido es Mejia Uribe\n"
     ]
    }
   ],
   "source": [
    "name = \"Felipe\"\n",
    "last_name = 'Mejia Uribe'\n",
    "print(name)\n",
    "print(last_name)\n",
    "\n",
    "full_name = name + \" \" + last_name\n",
    "print(full_name)\n",
    "\n",
    "quote = \"I'm Felipe\"\n",
    "print(quote)\n",
    "\n",
    "quote2 = ' She said \"Hello\"  '\n",
    "print(quote2)\n",
    "\n",
    "# format\n",
    "template = \"Hola, mi nombre es \" + name + \" y mi apellido es \" + last_name\n",
    "print('v1 ', template)\n",
    "\n",
    "template = \"Hola, mi nombre es {} y mi apellido es {}\".format(name, last_name)\n",
    "\n",
    "print('v2', template)\n",
    "\n",
    "template = f\"Hola, mi nombre es {name} y mi apellido es {last_name}\"\n",
    "print('v3', template)"
   ]
  },
  {
   "cell_type": "code",
   "execution_count": null,
   "metadata": {},
   "outputs": [],
   "source": []
  }
 ],
 "metadata": {
  "kernelspec": {
   "display_name": "Python 3",
   "language": "python",
   "name": "python3"
  },
  "language_info": {
   "codemirror_mode": {
    "name": "ipython",
    "version": 3
   },
   "file_extension": ".py",
   "mimetype": "text/x-python",
   "name": "python",
   "nbconvert_exporter": "python",
   "pygments_lexer": "ipython3",
   "version": "3.11.2"
  },
  "orig_nbformat": 4
 },
 "nbformat": 4,
 "nbformat_minor": 2
}
