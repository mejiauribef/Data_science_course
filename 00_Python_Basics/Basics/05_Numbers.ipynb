{
 "cells": [
  {
   "cell_type": "code",
   "execution_count": 1,
   "metadata": {},
   "outputs": [
    {
     "name": "stdout",
     "output_type": "stream",
     "text": [
      "<class 'int'>\n",
      "<class 'float'>\n",
      "2\n",
      "1\n",
      "27\n",
      "26\n",
      "25\n",
      "20\n",
      "25\n",
      "4.5e+18\n",
      "1e-16\n"
     ]
    }
   ],
   "source": [
    "lives = 3\n",
    "print(type(lives))\n",
    "age = 12\n",
    "budget = 100\n",
    "\n",
    "temperature = 12.12\n",
    "print(type(temperature))\n",
    "\n",
    "lives = 2\n",
    "print(lives)\n",
    "lives = 1\n",
    "print(lives)\n",
    "\n",
    "lives = 12 + 15\n",
    "print(lives)\n",
    "\n",
    "lives = lives - 1\n",
    "print(lives)\n",
    "\n",
    "lives -= 1\n",
    "print(lives)\n",
    "\n",
    "lives -= 5\n",
    "print(lives)\n",
    "\n",
    "lives += 5\n",
    "print(lives)\n",
    "\n",
    "number = 4500000000000000000.1\n",
    "print(number)\n",
    "\n",
    "number_b = 0.0000000000000001\n",
    "print(number_b)"
   ]
  }
 ],
 "metadata": {
  "kernelspec": {
   "display_name": "Python 3",
   "language": "python",
   "name": "python3"
  },
  "language_info": {
   "codemirror_mode": {
    "name": "ipython",
    "version": 3
   },
   "file_extension": ".py",
   "mimetype": "text/x-python",
   "name": "python",
   "nbconvert_exporter": "python",
   "pygments_lexer": "ipython3",
   "version": "3.11.2"
  },
  "orig_nbformat": 4
 },
 "nbformat": 4,
 "nbformat_minor": 2
}
