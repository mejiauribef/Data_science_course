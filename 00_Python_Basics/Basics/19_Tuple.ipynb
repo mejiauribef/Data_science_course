{
 "cells": [
  {
   "cell_type": "code",
   "execution_count": 1,
   "metadata": {},
   "outputs": [
    {
     "name": "stdout",
     "output_type": "stream",
     "text": [
      "(1, 2, 3, 5)\n",
      "0 => 1\n",
      "-1 => 5\n",
      "<class 'tuple'>\n",
      "('nico', 'zule', 'santi', 'nico')\n",
      "<class 'tuple'>\n",
      "(1, 2, 3, 5)\n",
      "('nico', 'zule', 'santi', 'nico')\n",
      "1\n",
      "2\n",
      "['nico', 'zule', 'santi', 'nico']\n",
      "<class 'list'>\n",
      "['nico', 'juli', 'santi', 'nico']\n",
      "('nico', 'juli', 'santi', 'nico')\n"
     ]
    }
   ],
   "source": [
    "numbers = (1, 2, 3, 5)\n",
    "strings = ('nico', 'zule', 'santi', 'nico')\n",
    "print(numbers)\n",
    "print('0 =>', numbers[0])\n",
    "print('-1 =>', numbers[-1])\n",
    "print(type(numbers))\n",
    "\n",
    "print(strings)\n",
    "print(type(strings))\n",
    "\n",
    "# CRUD\n",
    "# numbers.append(10)\n",
    "print(numbers)\n",
    "# numbers[1] = 'change'\n",
    "\n",
    "print(strings)\n",
    "print(strings.index('zule'))\n",
    "print(strings.count('nico'))\n",
    "\n",
    "my_list = list(strings)\n",
    "print(my_list)\n",
    "print(type(my_list))\n",
    "\n",
    "my_list[1] = 'juli'\n",
    "print(my_list)\n",
    "\n",
    "my_tuple = tuple(my_list)\n",
    "print(my_tuple)"
   ]
  }
 ],
 "metadata": {
  "kernelspec": {
   "display_name": "Python 3",
   "language": "python",
   "name": "python3"
  },
  "language_info": {
   "codemirror_mode": {
    "name": "ipython",
    "version": 3
   },
   "file_extension": ".py",
   "mimetype": "text/x-python",
   "name": "python",
   "nbconvert_exporter": "python",
   "pygments_lexer": "ipython3",
   "version": "3.11.2"
  },
  "orig_nbformat": 4
 },
 "nbformat": 4,
 "nbformat_minor": 2
}
