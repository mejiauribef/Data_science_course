{
 "cells": [
  {
   "cell_type": "code",
   "execution_count": 1,
   "metadata": {},
   "outputs": [
    {
     "name": "stdout",
     "output_type": "stream",
     "text": [
      "[1, 2, 3, 4]\n",
      "<class 'list'>\n",
      "['make a dishes', 'play videogames']\n",
      "[1, True, 'hola']\n",
      "1\n",
      "make a dishes\n",
      "['watch platzi courses', 'play videogames']\n",
      "['do the dishes', 'play videogames']\n",
      "[1, 2, 3]\n",
      "True\n",
      "True\n"
     ]
    }
   ],
   "source": [
    "numbers = [1, 2, 3, 4]\n",
    "print(numbers)\n",
    "print(type(numbers))\n",
    "\n",
    "tasks = ['make a dishes', 'play videogames']\n",
    "print(tasks)\n",
    "\n",
    "types = [1, True, 'hola']\n",
    "print(types)\n",
    "\n",
    "print(numbers[0])\n",
    "print(tasks[0])\n",
    "text = 'Hola'\n",
    "# text[0] = 'W'\n",
    "\n",
    "tasks[0] = 'watch platzi courses'\n",
    "print(tasks)\n",
    "\n",
    "tasks[0] = 'do the dishes'\n",
    "print(tasks)\n",
    "\n",
    "print(numbers[:3])\n",
    "print(True in types)\n",
    "print('hola' in types)"
   ]
  }
 ],
 "metadata": {
  "kernelspec": {
   "display_name": "Python 3",
   "language": "python",
   "name": "python3"
  },
  "language_info": {
   "codemirror_mode": {
    "name": "ipython",
    "version": 3
   },
   "file_extension": ".py",
   "mimetype": "text/x-python",
   "name": "python",
   "nbconvert_exporter": "python",
   "pygments_lexer": "ipython3",
   "version": "3.11.2"
  },
  "orig_nbformat": 4
 },
 "nbformat": 4,
 "nbformat_minor": 2
}
