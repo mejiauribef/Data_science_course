{
 "cells": [
  {
   "cell_type": "code",
   "execution_count": 1,
   "metadata": {},
   "outputs": [
    {
     "name": "stdout",
     "output_type": "stream",
     "text": [
      "29\n",
      "Ella sabe programar en Python\n",
      "ELLA SABE PROGRAMAR EN PYTHON\n",
      "ella sabe programar en python\n",
      "4\n",
      "eLLA SABE PROGRAMAR EN pYTHON\n",
      "True\n",
      "False\n",
      "Ella sabe programar en Go\n",
      "este es un titulo\n",
      "Este es un titulo\n",
      "Este Es Un Titulo\n",
      "False\n",
      "True\n"
     ]
    }
   ],
   "source": [
    "text = 'Ella sabe programar en Python'\n",
    "\n",
    "'''\n",
    "print('JavaScript' in text)\n",
    "print('Python' in text)\n",
    "\n",
    "if 'JS' in text:\n",
    "  print('Elegiste bien!!')\n",
    "else:\n",
    "  print('Tambien elegiste bien')\n",
    "\n",
    "'''\n",
    "\n",
    "size = len(text)\n",
    "print(size)\n",
    "\n",
    "print(text)\n",
    "print(text.upper())\n",
    "print(text.lower())\n",
    "print(text.count('a'))\n",
    "\n",
    "print(text.swapcase())\n",
    "print(text.startswith('Ella'))\n",
    "print(text.endswith('Rust'))\n",
    "print(text.replace('Python', 'Go'))\n",
    "\n",
    "text_2 = 'este es un titulo'\n",
    "print(text_2)\n",
    "print(text_2.capitalize())\n",
    "print(text_2.title())\n",
    "print(text_2.isdigit())\n",
    "print(\"398\".isdigit())"
   ]
  }
 ],
 "metadata": {
  "kernelspec": {
   "display_name": "Python 3",
   "language": "python",
   "name": "python3"
  },
  "language_info": {
   "codemirror_mode": {
    "name": "ipython",
    "version": 3
   },
   "file_extension": ".py",
   "mimetype": "text/x-python",
   "name": "python",
   "nbconvert_exporter": "python",
   "pygments_lexer": "ipython3",
   "version": "3.11.2"
  },
  "orig_nbformat": 4
 },
 "nbformat": 4,
 "nbformat_minor": 2
}
