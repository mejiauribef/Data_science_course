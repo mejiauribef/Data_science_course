{
 "cells": [
  {
   "cell_type": "code",
   "execution_count": 2,
   "metadata": {},
   "outputs": [
    {
     "name": "stdout",
     "output_type": "stream",
     "text": [
      "E\n",
      "l\n",
      "size =>  16\n",
      "n\n",
      "n\n",
      "Slicing:\n",
      "Ella \n",
      "Python\n",
      "Ella sabe \n",
      "sabe Pytho\n",
      "sabe Python\n",
      "Ella sabe Python\n",
      "Python\n",
      "Pto\n",
      "El aePto\n"
     ]
    }
   ],
   "source": [
    "text = \"Ella sabe Python\"\n",
    "print(text[0])\n",
    "print(text[1])\n",
    "# print(text[999])\n",
    "size = len(text)\n",
    "print('size => ',size)\n",
    "print(text[size - 1])\n",
    "print(text[-1])\n",
    "\n",
    "# slicing\n",
    "print(\"Slicing:\")\n",
    "print(text[0:5])\n",
    "print(text[10:16])\n",
    "print(text[:10])\n",
    "print(text[5:-1])\n",
    "print(text[5:])\n",
    "print(text[:])\n",
    "print(text[10:16:1])\n",
    "print(text[10:16:2])\n",
    "print(text[::2])"
   ]
  }
 ],
 "metadata": {
  "kernelspec": {
   "display_name": "Python 3",
   "language": "python",
   "name": "python3"
  },
  "language_info": {
   "codemirror_mode": {
    "name": "ipython",
    "version": 3
   },
   "file_extension": ".py",
   "mimetype": "text/x-python",
   "name": "python",
   "nbconvert_exporter": "python",
   "pygments_lexer": "ipython3",
   "version": "3.11.2"
  },
  "orig_nbformat": 4
 },
 "nbformat": 4,
 "nbformat_minor": 2
}
