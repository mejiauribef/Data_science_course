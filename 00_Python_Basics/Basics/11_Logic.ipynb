{
 "cells": [
  {
   "cell_type": "code",
   "execution_count": 2,
   "metadata": {},
   "outputs": [
    {
     "name": "stdout",
     "output_type": "stream",
     "text": [
      "AND\n",
      "True and True => True\n",
      "True and False => False\n",
      "False and True => False\n",
      "False and False => False\n",
      "True\n",
      "False\n",
      "True\n",
      "OR\n",
      "True or True => True\n",
      "True or False => True\n",
      "False or True => True\n",
      "False or False => False\n",
      "True\n"
     ]
    }
   ],
   "source": [
    "# and\n",
    "print('AND')\n",
    "print('True and True =>', True and True)\n",
    "print('True and False =>', True and False)\n",
    "print('False and True =>', False and True)\n",
    "print('False and False =>', False and False)\n",
    "\n",
    "print(10 > 5 and 5 < 10)\n",
    "print(10 > 5 and 5 > 10)\n",
    "\n",
    "stock = input('Ingrese el numero de stock => ')\n",
    "stock = int(stock)\n",
    "\n",
    "print(stock >= 100 and stock <= 1000)\n",
    "\n",
    "print('OR')\n",
    "print('True or True =>', True or True)\n",
    "print('True or False =>', True or False)\n",
    "print('False or True =>', False or True)\n",
    "print('False or False =>', False or False)\n",
    "\n",
    "role = input('Digita el rol => ')\n",
    "\n",
    "print(role == 'admin' or role == 'seller')"
   ]
  }
 ],
 "metadata": {
  "kernelspec": {
   "display_name": "Python 3",
   "language": "python",
   "name": "python3"
  },
  "language_info": {
   "codemirror_mode": {
    "name": "ipython",
    "version": 3
   },
   "file_extension": ".py",
   "mimetype": "text/x-python",
   "name": "python",
   "nbconvert_exporter": "python",
   "pygments_lexer": "ipython3",
   "version": "3.11.2"
  },
  "orig_nbformat": 4
 },
 "nbformat": 4,
 "nbformat_minor": 2
}
