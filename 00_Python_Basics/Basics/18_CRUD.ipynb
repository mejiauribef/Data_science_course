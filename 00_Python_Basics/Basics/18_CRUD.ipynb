{
 "cells": [
  {
   "cell_type": "code",
   "execution_count": 1,
   "metadata": {},
   "outputs": [
    {
     "name": "stdout",
     "output_type": "stream",
     "text": [
      "2\n",
      "[1, 2, 3, 4, 10]\n",
      "[1, 2, 3, 4, 10, 700]\n",
      "['hola', 1, 2, 3, 4, 10, 700]\n",
      "['hola', 1, 2, 'change', 3, 4, 10, 700]\n",
      "['hola', 1, 2, 'change', 3, 4, 10, 700, 'todo 1', 'todo 2', 'todo 3']\n",
      "['hola', 1, 2, 'change', 3, 4, 10, 700, 'todo 1', 'todo changed', 'todo 3']\n",
      "['hola', 1, 2, 'change', 3, 4, 10, 700, 'todo changed', 'todo 3']\n",
      "['hola', 1, 2, 'change', 3, 4, 10, 700, 'todo changed']\n",
      "[1, 2, 'change', 3, 4, 10, 700, 'todo changed']\n",
      "['todo changed', 700, 10, 4, 3, 'change', 2, 1]\n",
      "[1, 3, 4, 6]\n",
      "['ab', 'ed', 're']\n"
     ]
    },
    {
     "ename": "TypeError",
     "evalue": "'<' not supported between instances of 'int' and 'str'",
     "output_type": "error",
     "traceback": [
      "\u001b[1;31m---------------------------------------------------------------------------\u001b[0m",
      "\u001b[1;31mTypeError\u001b[0m                                 Traceback (most recent call last)",
      "Cell \u001b[1;32mIn[1], line 45\u001b[0m\n\u001b[0;32m     42\u001b[0m strings\u001b[39m.\u001b[39msort()\n\u001b[0;32m     43\u001b[0m \u001b[39mprint\u001b[39m(strings)\n\u001b[1;32m---> 45\u001b[0m new_list\u001b[39m.\u001b[39;49msort()\n",
      "\u001b[1;31mTypeError\u001b[0m: '<' not supported between instances of 'int' and 'str'"
     ]
    }
   ],
   "source": [
    "# CRUD Create, Read, Update & Delete\n",
    "\n",
    "numbers = [1, 2 , 3 , 4 , 5]\n",
    "print(numbers[1])\n",
    "numbers[-1] = 10\n",
    "print(numbers)\n",
    "\n",
    "numbers.append(700)\n",
    "print(numbers)\n",
    "\n",
    "numbers.insert(0, 'hola')\n",
    "print(numbers)\n",
    "\n",
    "numbers.insert(3, 'change')\n",
    "print(numbers)\n",
    "\n",
    "tasks = ['todo 1', 'todo 2', 'todo 3']\n",
    "new_list = numbers + tasks\n",
    "print(new_list)\n",
    "\n",
    "index = new_list.index('todo 2')\n",
    "new_list[index] = 'todo changed'\n",
    "print(new_list)\n",
    "\n",
    "new_list.remove('todo 1')\n",
    "print(new_list)\n",
    "\n",
    "new_list.pop()\n",
    "print(new_list)\n",
    "\n",
    "new_list.pop(0)\n",
    "print(new_list)\n",
    "\n",
    "new_list.reverse()\n",
    "print(new_list)\n",
    "\n",
    "numbers_a = [1, 4, 6 , 3]\n",
    "numbers_a.sort()\n",
    "print(numbers_a)\n",
    "\n",
    "strings = ['re', 'ab', 'ed']\n",
    "strings.sort()\n",
    "print(strings)\n",
    "\n",
    "new_list.sort()"
   ]
  }
 ],
 "metadata": {
  "kernelspec": {
   "display_name": "Python 3",
   "language": "python",
   "name": "python3"
  },
  "language_info": {
   "codemirror_mode": {
    "name": "ipython",
    "version": 3
   },
   "file_extension": ".py",
   "mimetype": "text/x-python",
   "name": "python",
   "nbconvert_exporter": "python",
   "pygments_lexer": "ipython3",
   "version": "3.11.2"
  },
  "orig_nbformat": 4
 },
 "nbformat": 4,
 "nbformat_minor": 2
}
