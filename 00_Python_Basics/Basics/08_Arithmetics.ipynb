{
 "cells": [
  {
   "cell_type": "code",
   "execution_count": 2,
   "metadata": {},
   "outputs": [
    {
     "name": "stdout",
     "output_type": "stream",
     "text": [
      "20\n",
      "5\n",
      "20\n",
      "5.0\n",
      "0\n",
      "3.3333333333333335\n",
      "1\n",
      "3\n",
      "8\n",
      "10.0\n",
      "8\n",
      "1.0\n",
      "10\n",
      "Hola mundo\n",
      "HolaHolaHola\n"
     ]
    }
   ],
   "source": [
    "print(10 + 10)\n",
    "print(10 - 5)\n",
    "print(10 * 2)\n",
    "print(10 / 2) # 5\n",
    "print(10 % 2) # 0\n",
    "print(10 / 3)\n",
    "print(10 % 3)\n",
    "print(10 // 3)\n",
    "print(2 ** 3)\n",
    "print(2 ** 3 + 3 - 7 / 1 // 4)\n",
    "print(2 ** 3)\n",
    "print((7 / 1) // 4)\n",
    "\n",
    "print(8 + 3 - 1)\n",
    "#print(10 / 0)\n",
    "\n",
    "print('Hola' + ' mundo')\n",
    "print('Hola' * 3)"
   ]
  }
 ],
 "metadata": {
  "kernelspec": {
   "display_name": "Python 3",
   "language": "python",
   "name": "python3"
  },
  "language_info": {
   "codemirror_mode": {
    "name": "ipython",
    "version": 3
   },
   "file_extension": ".py",
   "mimetype": "text/x-python",
   "name": "python",
   "nbconvert_exporter": "python",
   "pygments_lexer": "ipython3",
   "version": "3.11.2"
  },
  "orig_nbformat": 4
 },
 "nbformat": 4,
 "nbformat_minor": 2
}
