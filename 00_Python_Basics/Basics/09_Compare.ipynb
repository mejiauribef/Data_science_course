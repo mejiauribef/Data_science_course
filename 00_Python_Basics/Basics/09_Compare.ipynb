{
 "cells": [
  {
   "cell_type": "code",
   "execution_count": 1,
   "metadata": {},
   "outputs": [
    {
     "name": "stdout",
     "output_type": "stream",
     "text": [
      "True\n",
      "False\n",
      "False\n",
      "True\n",
      "False\n",
      "False\n",
      "True\n",
      "False\n",
      "True\n",
      "True\n",
      "False\n",
      "True\n",
      "True\n",
      "False\n",
      "True\n",
      "False\n",
      "True\n",
      "False\n",
      "False\n",
      "False\n"
     ]
    }
   ],
   "source": [
    "# > \n",
    "print(7 > 3)\n",
    "print(3 > 7)\n",
    "print(7 > 7)\n",
    "\n",
    "# <\n",
    "print(5 < 6)\n",
    "print(6 < 5)\n",
    "print(5 < 5)\n",
    "\n",
    "# >=\n",
    "print(2 >= 1)\n",
    "print(2 >= 3)\n",
    "print(2 >= 2)\n",
    "\n",
    "# <=\n",
    "print(1 <= 2)\n",
    "print(2 <= 1)\n",
    "print(2 <= 2)\n",
    "\n",
    "# ==\n",
    "\n",
    "print(6 == 6)\n",
    "print(5 == 2)\n",
    "\n",
    "# !=\n",
    "\n",
    "print(6 != 10)\n",
    "print(6 != 6)\n",
    "\n",
    "print(\"Apple\" == 'Apple')\n",
    "print(\"Apple\" == 'apple')\n",
    "print(\"1\" == 1)\n",
    "\n",
    "age = 15\n",
    "print(age >= 18)"
   ]
  }
 ],
 "metadata": {
  "kernelspec": {
   "display_name": "Python 3",
   "language": "python",
   "name": "python3"
  },
  "language_info": {
   "codemirror_mode": {
    "name": "ipython",
    "version": 3
   },
   "file_extension": ".py",
   "mimetype": "text/x-python",
   "name": "python",
   "nbconvert_exporter": "python",
   "pygments_lexer": "ipython3",
   "version": "3.11.2"
  },
  "orig_nbformat": 4
 },
 "nbformat": 4,
 "nbformat_minor": 2
}
