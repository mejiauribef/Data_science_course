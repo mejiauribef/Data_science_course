{
 "cells": [
  {
   "cell_type": "code",
   "execution_count": 1,
   "metadata": {},
   "outputs": [
    {
     "name": "stdout",
     "output_type": "stream",
     "text": [
      "<class 'dict'>\n",
      "{'avion': 'bla bla bla', 'name': 'Nicolas', 'last_name': 'Molina Monroy', 'age': 87}\n",
      "4\n",
      "87\n",
      "Molina Monroy\n",
      "87\n",
      "True\n",
      "False\n"
     ]
    }
   ],
   "source": [
    "my_dict = {}\n",
    "print(type(my_dict))\n",
    "\n",
    "my_dict = {\n",
    "  'avion': \"bla bla bla\",\n",
    "  'name': 'Nicolas',\n",
    "  'last_name': 'Molina Monroy',\n",
    "  'age': 87\n",
    "}\n",
    "\n",
    "print(my_dict)\n",
    "print(len(my_dict))\n",
    "\n",
    "print(my_dict['age'])\n",
    "print(my_dict['last_name'])\n",
    "print(my_dict.get('age'))\n",
    "\n",
    "print('avion' in my_dict)\n",
    "print('otroqueno' in my_dict)"
   ]
  },
  {
   "cell_type": "code",
   "execution_count": 2,
   "metadata": {},
   "outputs": [
    {
     "name": "stdout",
     "output_type": "stream",
     "text": [
      "{'name': 'nico', 'last_name': 'molina', 'langs': ['python', 'javascript'], 'age': 99}\n",
      "{'name': 'santi', 'last_name': 'molina', 'langs': ['python', 'javascript', 'rust'], 'age': 49}\n",
      "{'name': 'santi', 'langs': ['python', 'javascript', 'rust']}\n",
      "items\n",
      "dict_items([('name', 'santi'), ('langs', ['python', 'javascript', 'rust'])])\n",
      "keys\n",
      "dict_keys(['name', 'langs'])\n",
      "values\n",
      "dict_values(['santi', ['python', 'javascript', 'rust']])\n"
     ]
    }
   ],
   "source": [
    "person = {\n",
    "  'name': 'nico',\n",
    "  'last_name': 'molina',\n",
    "  'langs': ['python', 'javascript'],\n",
    "  'age': 99\n",
    "}\n",
    "\n",
    "print(person)\n",
    "\n",
    "person['name'] = 'santi'\n",
    "person['age'] -= 50\n",
    "person['langs'].append('rust')\n",
    "print(person)\n",
    "\n",
    "del person['last_name']\n",
    "person.pop('age')\n",
    "\n",
    "print(person)\n",
    "\n",
    "print('items')\n",
    "print(person.items())\n",
    "\n",
    "print('keys')\n",
    "print(person.keys())\n",
    "\n",
    "print('values')\n",
    "print(person.values())"
   ]
  }
 ],
 "metadata": {
  "kernelspec": {
   "display_name": "Python 3",
   "language": "python",
   "name": "python3"
  },
  "language_info": {
   "codemirror_mode": {
    "name": "ipython",
    "version": 3
   },
   "file_extension": ".py",
   "mimetype": "text/x-python",
   "name": "python",
   "nbconvert_exporter": "python",
   "pygments_lexer": "ipython3",
   "version": "3.11.2"
  },
  "orig_nbformat": 4
 },
 "nbformat": 4,
 "nbformat_minor": 2
}
