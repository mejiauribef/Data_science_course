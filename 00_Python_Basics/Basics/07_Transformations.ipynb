{
 "cells": [
  {
   "cell_type": "code",
   "execution_count": 2,
   "metadata": {},
   "outputs": [
    {
     "name": "stdout",
     "output_type": "stream",
     "text": [
      "<class 'str'>\n",
      "<class 'int'>\n",
      "<class 'bool'>\n",
      "Felipe Mejia\n",
      "30\n",
      "Felipe12\n",
      "Mi edad es 12\n",
      "Mi edad es 12\n",
      "<class 'str'>\n",
      "Tu edad en 10 años sera 11\n"
     ]
    }
   ],
   "source": [
    "name = \"Felipe\"\n",
    "print(type(name))\n",
    "name = 12\n",
    "print(type(name))\n",
    "name = True\n",
    "print(type(name))\n",
    "\n",
    "print(\"Felipe\" + \" Mejia\")\n",
    "print(10 + 20)\n",
    "print(\"Felipe\" + \"12\")\n",
    "\n",
    "age = 12\n",
    "print(\"Mi edad es \" + str(age))\n",
    "print(f\"Mi edad es {age}\")\n",
    "\n",
    "age = input('Escribe tu edad => ')\n",
    "print(type(age))\n",
    "age = int(age)\n",
    "age += 10\n",
    "print(f'Tu edad en 10 años sera {age}')"
   ]
  }
 ],
 "metadata": {
  "kernelspec": {
   "display_name": "Python 3",
   "language": "python",
   "name": "python3"
  },
  "language_info": {
   "codemirror_mode": {
    "name": "ipython",
    "version": 3
   },
   "file_extension": ".py",
   "mimetype": "text/x-python",
   "name": "python",
   "nbconvert_exporter": "python",
   "pygments_lexer": "ipython3",
   "version": "3.11.2"
  },
  "orig_nbformat": 4
 },
 "nbformat": 4,
 "nbformat_minor": 2
}
