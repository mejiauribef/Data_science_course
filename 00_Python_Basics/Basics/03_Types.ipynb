{
 "cells": [
  {
   "cell_type": "code",
   "execution_count": 1,
   "metadata": {},
   "outputs": [
    {
     "name": "stdout",
     "output_type": "stream",
     "text": [
      "Felipe\n",
      "<class 'str'>\n",
      "12\n",
      "<class 'int'>\n",
      "False\n",
      "<class 'bool'>\n",
      "<class 'str'>\n",
      "<class 'str'>\n"
     ]
    }
   ],
   "source": [
    "# string\n",
    "my_name = \"Felipe\"\n",
    "print(my_name)\n",
    "print(type(my_name))\n",
    "\n",
    "# int\n",
    "my_age = 12\n",
    "print(my_age)\n",
    "print(type(my_age))\n",
    "\n",
    "# boolean\n",
    "is_single = False\n",
    "print(is_single)\n",
    "print(type(is_single))\n",
    "\n",
    "# Inputs\n",
    "my_name = input('¿Cuál es tu nombre? ')\n",
    "my_age = input('¿Cuántos años tienes? ')\n",
    "print(type(my_name))\n",
    "print(type(my_age))\n"
   ]
  }
 ],
 "metadata": {
  "kernelspec": {
   "display_name": "Python 3",
   "language": "python",
   "name": "python3"
  },
  "language_info": {
   "codemirror_mode": {
    "name": "ipython",
    "version": 3
   },
   "file_extension": ".py",
   "mimetype": "text/x-python",
   "name": "python",
   "nbconvert_exporter": "python",
   "pygments_lexer": "ipython3",
   "version": "3.11.2"
  },
  "orig_nbformat": 4
 },
 "nbformat": 4,
 "nbformat_minor": 2
}
