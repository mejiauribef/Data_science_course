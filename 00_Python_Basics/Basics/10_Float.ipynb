{
 "cells": [
  {
   "cell_type": "code",
   "execution_count": 1,
   "metadata": {},
   "outputs": [
    {
     "name": "stdout",
     "output_type": "stream",
     "text": [
      "3.3\n",
      "3.3000000000000003\n",
      "False\n",
      "str => 3.3\n",
      "True\n",
      "**********\n",
      "3.3000000000000003 3.3\n",
      "True\n"
     ]
    }
   ],
   "source": [
    "x = 3.3\n",
    "print(x)\n",
    "y = 1.1 + 2.2\n",
    "print(y)\n",
    "print(x == y)\n",
    "\n",
    "y_str = format(y, \".2g\")\n",
    "print('str =>', y_str)\n",
    "print(y_str == str(x))\n",
    "\n",
    "print('*' * 10)\n",
    "\n",
    "print(y, x)\n",
    "\n",
    "tolerance = 0.00001\n",
    "print(abs(x - y) < tolerance)"
   ]
  }
 ],
 "metadata": {
  "kernelspec": {
   "display_name": "Python 3",
   "language": "python",
   "name": "python3"
  },
  "language_info": {
   "codemirror_mode": {
    "name": "ipython",
    "version": 3
   },
   "file_extension": ".py",
   "mimetype": "text/x-python",
   "name": "python",
   "nbconvert_exporter": "python",
   "pygments_lexer": "ipython3",
   "version": "3.11.2"
  },
  "orig_nbformat": 4
 },
 "nbformat": 4,
 "nbformat_minor": 2
}
